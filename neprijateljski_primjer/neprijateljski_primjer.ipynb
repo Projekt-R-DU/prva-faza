{
  "cells": [
    {
      "cell_type": "code",
      "execution_count": null,
      "metadata": {
        "id": "K2t2pbRYilWS"
      },
      "outputs": [],
      "source": [
        "import torch\n",
        "import torchvision.datasets as datasets\n",
        "import torchvision.transforms as transforms\n",
        "from neprijateljski_primjer_funkcije import *\n",
        "from neprijateljski_primjer_model import *"
      ]
    },
    {
      "cell_type": "code",
      "execution_count": 2,
      "metadata": {},
      "outputs": [],
      "source": [
        "is_cifar = True\n",
        "n = 2"
      ]
    },
    {
      "cell_type": "code",
      "execution_count": 3,
      "metadata": {},
      "outputs": [],
      "source": [
        "if is_cifar:\n",
        "    model = torch.load(\"../ResNet18/resnet_cifar.pth\").to('cuda:0')\n",
        "else:\n",
        "    model = torch.load(\"../ResNet18/resnet_mnist.pth\").to('cuda:0')"
      ]
    },
    {
      "cell_type": "code",
      "execution_count": null,
      "metadata": {
        "colab": {
          "base_uri": "https://localhost:8080/"
        },
        "id": "G2TxhlMmilWY",
        "outputId": "da899dae-f345-4b83-83fb-0c7dd1dc6726"
      },
      "outputs": [],
      "source": [
        "if is_cifar:\n",
        "    # Učitavanje CIFAR-10\n",
        "    transform = transforms.Compose([transforms.ToTensor(), transforms.Normalize((0.4914, 0.4822, 0.4465), (0.2023, 0.1994, 0.2010))])\n",
        "\n",
        "    trainset = datasets.CIFAR10(root='./data', train=True, download=True, transform=transform)\n",
        "    trainloader = torch.utils.data.DataLoader(trainset, batch_size=1)\n",
        "\n",
        "    testset = datasets.CIFAR10(root='./data', train=False, download=True, transform=transform)\n",
        "    testloader = torch.utils.data.DataLoader(testset, batch_size=1)\n",
        "else:\n",
        "    # Učitavanje MNIST\n",
        "    transform = transforms.Compose([transforms.ToTensor(), transforms.Normalize((0.1307,), (0.3081,))])\n",
        "\n",
        "    trainset = datasets.MNIST(root='./data', train=True, download=True, transform=transform)\n",
        "    trainloader = torch.utils.data.DataLoader(trainset, batch_size=1)\n",
        "\n",
        "    testset = datasets.MNIST(root='./data', train=False, download=True, transform=transform)\n",
        "    testloader = torch.utils.data.DataLoader(testset, batch_size=1)"
      ]
    },
    {
      "cell_type": "code",
      "execution_count": null,
      "metadata": {
        "id": "OpjTkYWJilWa"
      },
      "outputs": [],
      "source": [
        "wrong_predictions = selected_grad_attack(model, testloader)\n",
        "plot(wrong_predictions, n, is_cifar)"
      ]
    },
    {
      "cell_type": "code",
      "execution_count": null,
      "metadata": {},
      "outputs": [],
      "source": [
        "show_grads(wrong_predictions, n, 0.05)"
      ]
    },
    {
      "cell_type": "code",
      "execution_count": null,
      "metadata": {},
      "outputs": [],
      "source": [
        "wrong_predictions = class_attack(model, testloader, 0, eps=0.25)\n",
        "plot(wrong_predictions, n, is_cifar)"
      ]
    },
    {
      "cell_type": "code",
      "execution_count": null,
      "metadata": {},
      "outputs": [],
      "source": [
        "wrong_predictions = attack(model, testloader, eps=0.05)\n",
        "plot(wrong_predictions, n, is_cifar)"
      ]
    }
  ],
  "metadata": {
    "accelerator": "GPU",
    "colab": {
      "collapsed_sections": [],
      "name": "neprijateljski_primjer.ipynb",
      "provenance": []
    },
    "interpreter": {
      "hash": "45a3ec3d1b27e6e51167bc74b3facead96ae81b502e22e922240e987874b6d4c"
    },
    "kernelspec": {
      "display_name": "Python 3.9.7 64-bit ('.venv': venv)",
      "language": "python",
      "name": "python3"
    },
    "language_info": {
      "codemirror_mode": {
        "name": "ipython",
        "version": 3
      },
      "file_extension": ".py",
      "mimetype": "text/x-python",
      "name": "python",
      "nbconvert_exporter": "python",
      "pygments_lexer": "ipython3",
      "version": "3.9.9"
    },
    "orig_nbformat": 4
  },
  "nbformat": 4,
  "nbformat_minor": 0
}
