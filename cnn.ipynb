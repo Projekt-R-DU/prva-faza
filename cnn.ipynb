{
  "cells": [
    {
      "cell_type": "code",
      "execution_count": 2,
      "metadata": {
        "id": "ETZW6L4oDKSQ"
      },
      "outputs": [],
      "source": [
        "from numpy import floor\n",
        "from torch import nn\n",
        "\n",
        "class ConvolutionalModel(nn.Module):\n",
        "\n",
        "    def __init__(self, in_channels, in_width, conv1_channels, pool1_width, conv2_channels, pool2_width, fc3_width, fc4_width, class_count):\n",
        "        super(ConvolutionalModel, self).__init__()\n",
        "                                                                                                                # in_channels x in_width x in_width\n",
        "        self.conv1 = nn.Conv2d(in_channels, conv1_channels, kernel_size=5, stride=1, padding=2, bias=True)      # conv1_channels x in_width x in_width\n",
        "        self.relu1 = nn.ReLU()\n",
        "        self.pool1 = nn.MaxPool2d(pool1_width, stride=2)                                                        # conv1_channels x w2 x w2\n",
        "\n",
        "        w2 = floor((in_width - pool1_width) / 2 + 1)\n",
        "\n",
        "        self.conv2 = nn.Conv2d(conv1_channels, conv2_channels, kernel_size=5, stride=1, padding=2, bias=True)   # conv2_channels x w2 x w2\n",
        "        self.relu2 = nn.ReLU()\n",
        "        self.pool2 = nn.MaxPool2d(pool2_width, stride=2)                                                        # conv2_channels x w3 x w3\n",
        "        \n",
        "        w3 = floor((w2 - pool2_width) / 2 + 1)\n",
        "\n",
        "        self.flatten3 = nn.Flatten()                                                                            # (conv2_channels x w3 x w3)\n",
        "        self.fc3 = nn.Linear((int)(conv2_channels * w3 * w3), fc3_width)                                        # fc3width\n",
        "        self.relu3 = nn.ReLU()\n",
        "\n",
        "        self.fc4 = nn.Linear(fc3_width, fc4_width)                                                              # fc4width\n",
        "        self.relu4 = nn.ReLU()                                                       \n",
        "\n",
        "        self.fc_logits = nn.Linear(fc4_width, class_count)                                                      # class_count\n",
        "\n",
        "        self.reset_parameters()\n",
        "\n",
        "    def reset_parameters(self):\n",
        "        for m in self.modules():\n",
        "            if isinstance(m, nn.Conv2d):\n",
        "                nn.init.kaiming_normal_(m.weight, mode='fan_in', nonlinearity='relu')\n",
        "                nn.init.constant_(m.bias, 0)\n",
        "            elif isinstance(m, nn.Linear) and m is not self.fc_logits:\n",
        "                nn.init.kaiming_normal_(m.weight, mode='fan_in', nonlinearity='relu')\n",
        "                nn.init.constant_(m.bias, 0)\n",
        "        self.fc_logits.reset_parameters()\n",
        "\n",
        "    def forward(self, x):\n",
        "        h = self.conv1(x)\n",
        "        h = self.relu1(h)\n",
        "        h = self.pool1(h)\n",
        "\n",
        "        h = self.conv2(h)\n",
        "        h = self.relu2(h)\n",
        "        h = self.pool2(h)\n",
        "        \n",
        "        h = self.flatten3(h)\n",
        "        h = self.fc3(h)\n",
        "        h = self.relu3(h)\n",
        "\n",
        "        h = self.fc4(h)\n",
        "        h = self.relu4(h)\n",
        "\n",
        "        logits = self.fc_logits(h)\n",
        "        return logits"
      ]
    },
    {
      "cell_type": "code",
      "execution_count": 3,
      "metadata": {
        "colab": {
          "base_uri": "https://localhost:8080/"
        },
        "id": "gISf1Ez7DVf0",
        "outputId": "9679c9d5-cde4-4f86-b599-f1b208115e48"
      },
      "outputs": [
        {
          "name": "stdout",
          "output_type": "stream",
          "text": [
            "tensor([[ 2.3714, -2.5116, -0.8904, -1.0978, -1.0536, -0.9353,  0.3170, -2.0879,\n",
            "          0.4633,  0.7313]], grad_fn=<AddmmBackward0>)\n"
          ]
        }
      ],
      "source": [
        "import torch\n",
        "\n",
        "data_channels = 3\n",
        "data_width = 32\n",
        "CifarCnn = ConvolutionalModel(data_channels, data_width, 16, 3, 32, 3, 256, 128, 10)\n",
        "\n",
        "inp = torch.randn(1, 3, 32, 32)\n",
        "out = CifarCnn(inp)\n",
        "print(out)"
      ]
    }
  ],
  "metadata": {
    "colab": {
      "collapsed_sections": [],
      "name": "cnn.ipynb",
      "provenance": []
    },
    "kernelspec": {
      "display_name": "Python 3",
      "name": "python3"
    },
    "language_info": {
      "codemirror_mode": {
        "name": "ipython",
        "version": 3
      },
      "file_extension": ".py",
      "mimetype": "text/x-python",
      "name": "python",
      "nbconvert_exporter": "python",
      "pygments_lexer": "ipython3",
      "version": "3.9.5"
    }
  },
  "nbformat": 4,
  "nbformat_minor": 0
}
